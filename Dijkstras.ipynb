{
 "cells": [
  {
   "cell_type": "code",
   "execution_count": 27,
   "metadata": {},
   "outputs": [],
   "source": [
    "import Functions as F \n",
    "import pandas as pd \n",
    "import numpy as np \n",
    "import matplotlib as mat\n",
    "%matplotlib qt \n",
    "# results = \"runs/results05.csv\"\n",
    "# nr_agents = 6\n",
    "# nr = 21\n",
    "# Viz = F.VisualizeAngle(results, nr_agents)\n",
    "# Viz.get_coor()\n",
    "# Viz.plot_angle_in_plane(nr, True)\n",
    "\n",
    "# Dij = F.Dijkstras(results, nr_agents, nr, Viz.R)\n",
    "# Dij.run_dijkstra(6, 6)"
   ]
  },
  {
   "cell_type": "markdown",
   "metadata": {},
   "source": [
    "## Plot path on top of image"
   ]
  },
  {
   "cell_type": "code",
   "execution_count": 2,
   "metadata": {},
   "outputs": [],
   "source": [
    "import SimpleITK as sitk \n",
    "import numpy as np \n",
    "import os \n",
    "import matplotlib.pyplot as plt "
   ]
  },
  {
   "cell_type": "markdown",
   "metadata": {},
   "source": [
    "Facial paths "
   ]
  },
  {
   "cell_type": "code",
   "execution_count": 18,
   "metadata": {},
   "outputs": [],
   "source": [
    "facial_paths = os.listdir(\"paths/paths_facial\")\n",
    "itkimage = sitk.ReadImage(\"Cmarl/src/data/images/Data_Scaled/ear1-P1051_2.nii.gz\")\n",
    "\n",
    "mask = sitk.GetArrayFromImage(sitk.ReadImage(\"paths/paths_facial/Landmark_ear1-P1051_2.nii.gz\"))\n",
    "im = sitk.GetArrayFromImage(itkimage)\n"
   ]
  },
  {
   "cell_type": "code",
   "execution_count": 19,
   "metadata": {},
   "outputs": [],
   "source": [
    "import statistics\n",
    "x, y, z = np.where(mask == 1)\n",
    "slice = statistics.mode(x)\n",
    "slice = 69\n",
    "\n",
    "plt.imshow(im[:, slice], cmap = \"gray\")\n",
    "plt.scatter(z[y == slice], x[y == slice], color =\"r\", s = 2)\n",
    "plt.title(\"FN Path (Axial view)\")\n",
    "plt.axis(\"off\")\n",
    "plt.show()"
   ]
  },
  {
   "cell_type": "markdown",
   "metadata": {},
   "source": [
    "Chorda paths "
   ]
  },
  {
   "cell_type": "code",
   "execution_count": 20,
   "metadata": {},
   "outputs": [],
   "source": [
    "chorda_paths = os.listdir(\"paths/paths_chorda\")\n",
    "itkimage = sitk.ReadImage(\"Cmarl/src/data/images/Data_Scaled/ear1-P1051_2.nii.gz\" )\n",
    "\n",
    "mask2 = sitk.GetArrayFromImage(sitk.ReadImage(\"paths/paths_chorda/Landmark_ear1-P1051_2.nii.gz\" ))\n",
    "im = sitk.GetArrayFromImage(itkimage)\n"
   ]
  },
  {
   "cell_type": "code",
   "execution_count": 29,
   "metadata": {},
   "outputs": [
    {
     "name": "stderr",
     "output_type": "stream",
     "text": [
      "The PostScript backend does not support transparency; partially transparent artists will be rendered opaque.\n",
      "The PostScript backend does not support transparency; partially transparent artists will be rendered opaque.\n"
     ]
    }
   ],
   "source": [
    "import statistics\n",
    "x, y, z = np.where(mask2 == 1)\n",
    "xq, yq, zq = np.where(mask == 1)\n",
    "slice = statistics.mode(z)\n",
    "slice = 69\n",
    "\n",
    "mat.rcParams.update({'font.size': 18})\n",
    "plt.figure(figsize=(8,6))\n",
    "\n",
    "plt.imshow(im[0:70, slice, 0:70], cmap = \"gray\")\n",
    "plt.scatter(z[y == slice], x[y == slice], color =[0.63215686, 0.39607843, 0.68980392], s = 20,label = \"CTY path\")\n",
    "plt.scatter(zq[yq == slice], xq[yq == slice], color =[0.3 , 0.67333333, 0.4454902], s = 20,label = \"FN path\")\n",
    "plt.title(\"Paths (Coronal view)\")\n",
    "plt.axis(\"off\")\n",
    "plt.legend()\n",
    "plt.show()"
   ]
  },
  {
   "cell_type": "code",
   "execution_count": 14,
   "metadata": {},
   "outputs": [
    {
     "name": "stdout",
     "output_type": "stream",
     "text": [
      "[array([42, 42, 42, 43, 43, 43], dtype=int64), array([69, 69, 70, 69, 69, 70], dtype=int64), array([26, 27, 27, 25, 26, 25], dtype=int64)]\n"
     ]
    }
   ],
   "source": [
    "print([x, y, z])"
   ]
  },
  {
   "cell_type": "code",
   "execution_count": null,
   "metadata": {},
   "outputs": [],
   "source": []
  }
 ],
 "metadata": {
  "interpreter": {
   "hash": "ad2bdc8ecc057115af97d19610ffacc2b4e99fae6737bb82f5d7fb13d2f2c186"
  },
  "kernelspec": {
   "display_name": "Python 3.9.7 ('base')",
   "language": "python",
   "name": "python3"
  },
  "language_info": {
   "codemirror_mode": {
    "name": "ipython",
    "version": 3
   },
   "file_extension": ".py",
   "mimetype": "text/x-python",
   "name": "python",
   "nbconvert_exporter": "python",
   "pygments_lexer": "ipython3",
   "version": "3.9.7"
  },
  "orig_nbformat": 4
 },
 "nbformat": 4,
 "nbformat_minor": 2
}
