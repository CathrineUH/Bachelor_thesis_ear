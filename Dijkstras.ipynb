{
 "cells": [
  {
   "cell_type": "code",
   "execution_count": 1,
   "metadata": {},
   "outputs": [],
   "source": [
    "import Functions as F \n",
    "import pandas as pd \n",
    "import numpy as np \n",
    "%matplotlib qt \n",
    "results = \"results/results03.csv\"\n",
    "nr_agents = 6\n",
    "nr = 14\n",
    "Viz = F.VisualizeAngle(results, nr_agents)\n",
    "Viz.get_coor()\n",
    "Viz.plot_angle_in_plane(nr, True)\n",
    "\n",
    "rotation_ann = Viz.R_ann\n",
    "rotation_model = Viz.R_model \n",
    "Dij = F.Dijkstras(results, nr_agents, nr, rotation_ann, rotation_model)\n",
    "\n",
    "Dij.run_dijkstra(6, 6)"
   ]
  },
  {
   "cell_type": "code",
   "execution_count": 2,
   "metadata": {},
   "outputs": [],
   "source": [
    "Dij.plot_both()"
   ]
  },
  {
   "cell_type": "markdown",
   "metadata": {},
   "source": [
    "## Plot path on top of image"
   ]
  },
  {
   "cell_type": "code",
   "execution_count": 35,
   "metadata": {},
   "outputs": [],
   "source": [
    "import SimpleITK as sitk \n",
    "import numpy as np \n",
    "import os \n",
    "import matplotlib.pyplot as plt "
   ]
  },
  {
   "cell_type": "code",
   "execution_count": 36,
   "metadata": {},
   "outputs": [],
   "source": [
    "facial_paths = os.listdir(\"paths/paths_facial\")\n",
    "itkimage = sitk.ReadImage(\"Cmarl/src/data/images/Data_good_Scaled/\" + facial_paths[0][6:])\n",
    "\n",
    "mask = sitk.GetArrayFromImage(sitk.ReadImage(\"paths/paths_facial/\" + facial_paths[0]))\n",
    "im = sitk.GetArrayFromImage(itkimage)\n"
   ]
  },
  {
   "cell_type": "code",
   "execution_count": 38,
   "metadata": {},
   "outputs": [],
   "source": [
    "import statistics\n",
    "x, y, z = np.where(mask == 1)\n",
    "slice = statistics.mode(y)\n",
    "\n",
    "plt.imshow(im[:, slice], cmap = \"gray\")\n",
    "plt.scatter(z[y == slice], x[y == slice], color =\"r\", s = 2)\n",
    "plt.axis(\"off\")\n",
    "plt.show()"
   ]
  },
  {
   "cell_type": "code",
   "execution_count": 31,
   "metadata": {},
   "outputs": [
    {
     "data": {
      "text/plain": [
       "'008_1_R.nii.gz'"
      ]
     },
     "execution_count": 31,
     "metadata": {},
     "output_type": "execute_result"
    }
   ],
   "source": [
    "facial_paths[0][6:]"
   ]
  }
 ],
 "metadata": {
  "interpreter": {
   "hash": "9f174c81771ee6d077712ce78a52f53e50339283faf45319eecd1b39b251af8d"
  },
  "kernelspec": {
   "display_name": "Python 3.9.7 ('base')",
   "language": "python",
   "name": "python3"
  },
  "language_info": {
   "codemirror_mode": {
    "name": "ipython",
    "version": 3
   },
   "file_extension": ".py",
   "mimetype": "text/x-python",
   "name": "python",
   "nbconvert_exporter": "python",
   "pygments_lexer": "ipython3",
   "version": "3.9.7"
  },
  "orig_nbformat": 4
 },
 "nbformat": 4,
 "nbformat_minor": 2
}
