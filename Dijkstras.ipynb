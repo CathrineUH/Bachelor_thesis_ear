{
 "cells": [
  {
   "cell_type": "code",
   "execution_count": null,
   "metadata": {},
   "outputs": [],
   "source": []
  },
  {
   "cell_type": "code",
   "execution_count": 20,
   "metadata": {},
   "outputs": [
    {
     "name": "stdout",
     "output_type": "stream",
     "text": [
      "nr = 0\n",
      "nr = 1\n",
      "nr = 2\n",
      "nr = 3\n",
      "nr = 4\n",
      "nr = 5\n",
      "nr = 6\n",
      "nr = 7\n",
      "nr = 8\n",
      "nr = 9\n",
      "nr = 10\n",
      "nr = 11\n",
      "nr = 12\n",
      "nr = 13\n",
      "nr = 14\n",
      "nr = 15\n",
      "nr = 16\n",
      "nr = 17\n",
      "nr = 18\n",
      "nr = 19\n",
      "nr = 20\n",
      "nr = 21\n"
     ]
    }
   ],
   "source": [
    "results = \"results/results03.csv\"\n",
    "nr_agents = 6\n",
    "which = \"Landmark\"\n",
    "con_chorda = 6\n",
    "con_facial = 26  \n",
    "weights = run_dijkstra(results, nr_agents, which, con_chorda, con_facial)"
   ]
  },
  {
   "cell_type": "code",
   "execution_count": 66,
   "metadata": {},
   "outputs": [
    {
     "name": "stderr",
     "output_type": "stream",
     "text": [
      "c:\\Users\\There\\OneDrive\\Dokumenter\\GitHub\\Bachelor-thesis-ear\\Functions\\angleVis.py:92: RuntimeWarning: invalid value encountered in true_divide\n",
      "  n /= np.linalg.norm(n)\n"
     ]
    }
   ],
   "source": [
    "Viz = F.VisualizeAngle(\"results/results03.csv\", 6)\n",
    "Viz.get_coor()\n",
    "Viz.plot_angle_in_plane(10)\n",
    "angles = Viz.compute_all_angles()\n",
    "Rot = Viz.R"
   ]
  },
  {
   "cell_type": "code",
   "execution_count": 67,
   "metadata": {},
   "outputs": [],
   "source": [
    "path_chorda = (Rot @ path_18.T).T \n",
    "path_ = np.concatenate([path_26[0], path_26[1]], axis = 0)\n",
    "\n",
    "path_facial = (Rot @ path_.T).T \n",
    "xn = np.linspace(-100, 100)\n",
    "m, c = np.polyfit(path_chorda[:, 0], path_chorda[:, 1], 1)\n",
    "yn = np.polyval([m, c], xn)\n",
    "\n",
    "m1, c1, = np.polyfit(path_facial[:, 0], path_facial[:, 1], 1)\n",
    "yn2 = np.polyval([m1, c1], xn)\n"
   ]
  },
  {
   "cell_type": "code",
   "execution_count": 68,
   "metadata": {},
   "outputs": [],
   "source": [
    "p1 = np.array([xn[0], yn[0]])\n",
    "p2 = np.array([xn[-1], yn[-1]])\n",
    "chorda_direction = p2 - p1 \n",
    "\n",
    "p3 = np.array([xn[0], yn2[0]])\n",
    "p4 = np.array([xn[-1], yn2[-1]])\n",
    "facial_direction = p4 - p3\n",
    "\n",
    "angle = np.arccos(chorda_direction @ facial_direction /(np.linalg.norm(chorda_direction) * np.linalg.norm(facial_direction))) * 180 / np.pi "
   ]
  },
  {
   "cell_type": "code",
   "execution_count": 69,
   "metadata": {},
   "outputs": [],
   "source": [
    "%matplotlib qt \n",
    "import matplotlib\n",
    "matplotlib.rcParams.update({'font.size': 18})\n",
    "plt.scatter(path_chorda[:, 0], path_chorda[:, 1], color = \"b\", label = \"CTY\") # A\n",
    "plt.scatter(path_facial[:, 0], path_facial[:, 1], color = \"r\", label = \"FN\")\n",
    "plt.axis(\"square\")\n",
    "plt.plot(xn, yn)\n",
    "plt.plot(xn, yn2)\n",
    "plt.legend()\n",
    "plt.title(\"Angle = \" + str(angle))\n",
    "plt.xticks([])\n",
    "plt.yticks([])\n",
    "plt.show()"
   ]
  },
  {
   "cell_type": "code",
   "execution_count": 113,
   "metadata": {},
   "outputs": [
    {
     "data": {
      "text/plain": [
       "array([ 0.06068246, -0.15829528, -0.98552536])"
      ]
     },
     "execution_count": 113,
     "metadata": {},
     "output_type": "execute_result"
    }
   ],
   "source": [
    "mu = np.mean(path_, axis = 0)\n",
    "U, Sigma, V = np.linalg.svd(path - mu)\n",
    "direction = V[0]"
   ]
  },
  {
   "cell_type": "code",
   "execution_count": 63,
   "metadata": {},
   "outputs": [
    {
     "name": "stdout",
     "output_type": "stream",
     "text": [
      "33.80766007663637\n",
      "34.83399241849138\n",
      "35.80757322223459\n",
      "36.8586263959745\n",
      "37.88495873782951\n",
      "38.85522966723072\n",
      "39.853531302858826\n",
      "40.82711210660204\n",
      "41.79738303600325\n",
      "42.76765396540445\n",
      "43.73792489480566\n",
      "43.73792489480566\n",
      "43.76595560103256\n",
      "44.73953640477578\n",
      "45.71311720851899\n",
      "46.7114188441471\n",
      "47.70972047977521\n",
      "48.73274294728821\n",
      "49.70301387668942\n",
      "49.65026233857762\n"
     ]
    }
   ],
   "source": [
    "for i in range(len(path_facial)): \n",
    "    print(path_facial[i, 1])"
   ]
  },
  {
   "cell_type": "code",
   "execution_count": null,
   "metadata": {},
   "outputs": [],
   "source": []
  }
 ],
 "metadata": {
  "interpreter": {
   "hash": "9f174c81771ee6d077712ce78a52f53e50339283faf45319eecd1b39b251af8d"
  },
  "kernelspec": {
   "display_name": "Python 3.9.7 ('base')",
   "language": "python",
   "name": "python3"
  },
  "language_info": {
   "codemirror_mode": {
    "name": "ipython",
    "version": 3
   },
   "file_extension": ".py",
   "mimetype": "text/x-python",
   "name": "python",
   "nbconvert_exporter": "python",
   "pygments_lexer": "ipython3",
   "version": "3.9.7"
  },
  "orig_nbformat": 4
 },
 "nbformat": 4,
 "nbformat_minor": 2
}
