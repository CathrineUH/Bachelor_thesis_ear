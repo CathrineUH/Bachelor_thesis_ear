{
 "cells": [
  {
   "cell_type": "code",
   "execution_count": 3,
   "metadata": {},
   "outputs": [],
   "source": [
    "import Functions as F \n",
    "import pandas as pd \n",
    "import numpy as np \n",
    "%matplotlib qt \n",
    "results = \"results/results05.csv\"\n",
    "nr_agents = 6\n",
    "nr = 21\n",
    "Viz = F.VisualizeAngle(results, nr_agents)\n",
    "Viz.get_coor()\n",
    "Viz.plot_angle_in_plane(nr, True)\n",
    "\n",
    "Dij = F.Dijkstras(results, nr_agents, nr, Viz.R)\n",
    "Dij.run_dijkstra(6, 6)"
   ]
  },
  {
   "cell_type": "markdown",
   "metadata": {},
   "source": [
    "## Plot path on top of image"
   ]
  },
  {
   "cell_type": "code",
   "execution_count": 4,
   "metadata": {},
   "outputs": [],
   "source": [
    "import SimpleITK as sitk \n",
    "import numpy as np \n",
    "import os \n",
    "import matplotlib.pyplot as plt "
   ]
  },
  {
   "cell_type": "markdown",
   "metadata": {},
   "source": [
    "Facial paths "
   ]
  },
  {
   "cell_type": "code",
   "execution_count": 26,
   "metadata": {},
   "outputs": [],
   "source": [
    "facial_paths = os.listdir(\"paths/paths_facial\")\n",
    "itkimage = sitk.ReadImage(\"Cmarl/src/data/images/Data_Scaled/ear1-P1051_2.nii.gz\")\n",
    "\n",
    "mask = sitk.GetArrayFromImage(sitk.ReadImage(\"paths/paths_facial/Landmark_ear1-P1051_2.nii.gz\"))\n",
    "im = sitk.GetArrayFromImage(itkimage)\n"
   ]
  },
  {
   "cell_type": "code",
   "execution_count": null,
   "metadata": {},
   "outputs": [],
   "source": [
    "import statistics\n",
    "x, y, z = np.where(mask == 1)\n",
    "slice = statistics.mode(x)\n",
    "slice = 68 \n",
    "\n",
    "plt.imshow(im[:, slice], cmap = \"gray\")\n",
    "plt.scatter(z[y == slice], x[y == slice], color =\"r\", s = 2)\n",
    "plt.title(\"FN Path (Axial view)\")\n",
    "plt.axis(\"off\")\n",
    "plt.show()"
   ]
  },
  {
   "cell_type": "markdown",
   "metadata": {},
   "source": [
    "Chorda paths "
   ]
  },
  {
   "cell_type": "code",
   "execution_count": 5,
   "metadata": {},
   "outputs": [],
   "source": [
    "chorda_paths = os.listdir(\"paths/paths_chorda\")\n",
    "itkimage = sitk.ReadImage(\"Cmarl/src/data/images/Data_good_Scaled/\" + chorda_paths[0][6:])\n",
    "\n",
    "mask = sitk.GetArrayFromImage(sitk.ReadImage(\"paths/paths_chorda/\" + chorda_paths[0]))\n",
    "im = sitk.GetArrayFromImage(itkimage)\n"
   ]
  },
  {
   "cell_type": "code",
   "execution_count": 18,
   "metadata": {},
   "outputs": [],
   "source": [
    "import statistics\n",
    "x, y, z = np.where(mask == 1)\n",
    "slice = statistics.mode(z)\n",
    "\n",
    "plt.imshow(im[0:70, 0:70, slice], cmap = \"gray\")\n",
    "plt.scatter(y[z == slice], x[z == slice], color =\"r\", s = 2)\n",
    "plt.title(\"CTY Path (Sagittal view)\")\n",
    "plt.axis(\"off\")\n",
    "plt.show()"
   ]
  },
  {
   "cell_type": "code",
   "execution_count": 8,
   "metadata": {},
   "outputs": [
    {
     "name": "stdout",
     "output_type": "stream",
     "text": [
      "[array([37, 38, 39, 40, 40, 40, 40, 40, 40], dtype=int64), array([56, 56, 56, 56, 56, 56, 56, 56, 56], dtype=int64), array([30, 30, 30, 25, 26, 27, 28, 29, 30], dtype=int64)]\n"
     ]
    }
   ],
   "source": [
    "print([x, y, z])"
   ]
  },
  {
   "cell_type": "code",
   "execution_count": null,
   "metadata": {},
   "outputs": [],
   "source": []
  }
 ],
 "metadata": {
  "interpreter": {
   "hash": "1cbfa44f9f0681362830cf9b28c874dd869f944b255e2dcd7b09ed8c69ea8228"
  },
  "kernelspec": {
   "display_name": "Python 3.9.7 ('base')",
   "language": "python",
   "name": "python3"
  },
  "language_info": {
   "codemirror_mode": {
    "name": "ipython",
    "version": 3
   },
   "file_extension": ".py",
   "mimetype": "text/x-python",
   "name": "python",
   "nbconvert_exporter": "python",
   "pygments_lexer": "ipython3",
   "version": "3.9.7"
  },
  "orig_nbformat": 4
 },
 "nbformat": 4,
 "nbformat_minor": 2
}
