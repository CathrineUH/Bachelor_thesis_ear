{
 "cells": [
  {
   "cell_type": "code",
   "execution_count": 1,
   "metadata": {},
   "outputs": [],
   "source": [
    "import dijkstra3d\n",
    "import numpy as np\n",
    "import os\n",
    "import pandas as pd\n",
    "import SimpleITK as sitk\n",
    "from skimage import data\n",
    "import Functions as F \n",
    "import matplotlib.pyplot as plt "
   ]
  },
  {
   "cell_type": "code",
   "execution_count": 19,
   "metadata": {},
   "outputs": [],
   "source": [
    "def read_from_df(df, idx, nr, which): \n",
    "    position = np.array([df.loc[nr, which + \" \" + str(idx) + \" pos x\"], df.loc[nr, which + \" \" + str(idx) + \" pos y\"], df.loc[nr, which + \" \" + str(idx) + \" pos z\"],])\n",
    "    return position\n",
    "\n",
    "\n",
    "def run_dijkstra(results, nr_agents, which, con_chorda, con_facial):\n",
    "    ind = 0\n",
    "    data = pd.read_csv(results)\n",
    "    weights = np.zeros((data.shape[0], 2))\n",
    "    idx = F.get_best_agents(data) if nr_agents == 12 else [0, 1, 2, 3, 4, 5]\n",
    "    with open(r\"Cmarl\\src\\data\\filenames\\testing.txt\", 'r') as file: \n",
    "        filenames = file.read().split(\"\\n\")\n",
    "\n",
    "\n",
    "    for nr in range(data.shape[0]):\n",
    "        if nr >= 9: \n",
    "            id = 41\n",
    "        else: \n",
    "            id = 36\n",
    "        print(f\"nr = {nr}\")\n",
    "        C = read_from_df(data, idx[0], nr, which)\n",
    "        A = read_from_df(data, idx[1], nr, which)\n",
    "        R = read_from_df(data, idx[2], nr, which)\n",
    "        M = read_from_df(data, idx[3], nr, which)\n",
    "        T = read_from_df(data, idx[4], nr, which)\n",
    "\n",
    "        #load image\n",
    "        mr_scan = sitk.GetArrayFromImage(sitk.ReadImage(filenames[nr]))\n",
    "\n",
    "        #positive (but mr is always positive)\n",
    "        field = mr_scan\n",
    "                \n",
    "        # path is an [N,3] numpy array i.e. a list of x,y,z coordinates\n",
    "        # terminates early, default is 26 connected\n",
    "        # conectivity 18 2 landmarks\n",
    "        path_chorda = dijkstra3d.dijkstra(field, A, C, connectivity=con_chorda, bidirectional=True)\n",
    "        \n",
    "        label = mr_scan.copy()*0\n",
    "        for (x,y,z) in path_chorda:\n",
    "            label[x,y,z] = 1\n",
    "        sitk.WriteImage(sitk.GetImageFromArray(label), os.path.join('paths/paths_chorda',filenames[nr][id:])  , useCompression=True)\n",
    "        np.savetxt(\"paths/chordatxt/\" + filenames[nr][id:-6] + \"txt\", path_chorda, fmt='%s')\n",
    "        \n",
    "        \n",
    "        #here we use 3 landmarks so there are two paths\n",
    "        path_facialRM = dijkstra3d.dijkstra(field, R, M, connectivity = con_facial, bidirectional=True)\n",
    "\n",
    "        label_26 = mr_scan.copy()*0\n",
    "        for (x,y,z) in path_facialRM:\n",
    "            label_26[x,y,z] = 1\n",
    "\n",
    "        np.savetxt(\"paths/facialtxtRM/\" + filenames[nr][id:-6] + \"txt\", path_facialRM,fmt='%s', delimiter = \",\")\n",
    "\n",
    "        path_facialMT = dijkstra3d.dijkstra(field, M, T, connectivity = con_facial, bidirectional=True)\n",
    "        for (x,y,z) in path_facialMT:\n",
    "            label_26[x,y,z] = 1\n",
    "\n",
    "        sitk.WriteImage(sitk.GetImageFromArray(label_26), os.path.join('paths/paths_facial',filenames[nr][id:])  , useCompression=True)\n",
    "        np.savetxt(\"paths/facialtxtMT/\" + filenames[nr][id:-6] + \"txt\", path_facialMT,fmt='%s', delimiter = \",\")\n",
    "\n",
    "\n",
    "\n",
    "        # Compute vector with intensisties for each candidate path\n",
    "\n",
    "        val_chorda=[]\n",
    "        for (x,y,z) in path_chorda:\n",
    "            val_chorda.append(field[x,y,z])       \n",
    "        \n",
    "        val_facial = []\n",
    "        for (x,y,z) in path_facialRM:\n",
    "            val_facial.append(field[x,y,z])\n",
    "        \n",
    "        for (x, y, z) in path_facialMT:\n",
    "            val_facial.append(field[x,y,z])\n",
    "\n",
    "\n",
    "            \n",
    "        val_chorda = np.array(val_chorda)\n",
    "        val_facial = np.array(val_facial)\n",
    "        \n",
    "        # Compute comulative squared derivative\n",
    "        rat_chorda = (np.sum(np.square(np.array(val_chorda[1:]-val_chorda[:-1], dtype='int64')))+np.sum(np.square(np.array(val_chorda[1:2:]-val_chorda[0:2:-1], dtype='int64'))))#/(len(val_26))\n",
    "        rat_facial = (np.sum(np.square(np.array(val_facial[1:]-val_facial[:-1], dtype='int64')))+np.sum(np.square(np.array(val_facial[1:2:]-val_facial[0:2:-1], dtype='int64'))))#/(len(val_18))\n",
    "        \n",
    "\n",
    "        weights[ind,:]= [rat_chorda,rat_facial]\n",
    "        ind += 1\n",
    "    \n",
    "    return weights \n",
    "    \n",
    "    "
   ]
  },
  {
   "cell_type": "code",
   "execution_count": 20,
   "metadata": {},
   "outputs": [
    {
     "name": "stdout",
     "output_type": "stream",
     "text": [
      "nr = 0\n",
      "nr = 1\n",
      "nr = 2\n",
      "nr = 3\n",
      "nr = 4\n",
      "nr = 5\n",
      "nr = 6\n",
      "nr = 7\n",
      "nr = 8\n",
      "nr = 9\n",
      "nr = 10\n",
      "nr = 11\n",
      "nr = 12\n",
      "nr = 13\n",
      "nr = 14\n",
      "nr = 15\n",
      "nr = 16\n",
      "nr = 17\n",
      "nr = 18\n",
      "nr = 19\n",
      "nr = 20\n",
      "nr = 21\n"
     ]
    }
   ],
   "source": [
    "results = \"results/results03.csv\"\n",
    "nr_agents = 6\n",
    "which = \"Landmark\"\n",
    "con_chorda = 6\n",
    "con_facial = 26  \n",
    "weights = run_dijkstra(results, nr_agents, which, con_chorda, con_facial)"
   ]
  },
  {
   "cell_type": "code",
   "execution_count": 18,
   "metadata": {},
   "outputs": [
    {
     "data": {
      "text/plain": [
       "'011_1_R.nii.gz'"
      ]
     },
     "execution_count": 18,
     "metadata": {},
     "output_type": "execute_result"
    }
   ],
   "source": [
    "    with open(r\"Cmarl\\src\\data\\filenames\\testing.txt\", 'r') as file: \n",
    "        filenames = file.read().split(\"\\n\")\n",
    "    \n",
    "    filenames[9][41:]"
   ]
  },
  {
   "cell_type": "code",
   "execution_count": 66,
   "metadata": {},
   "outputs": [
    {
     "name": "stderr",
     "output_type": "stream",
     "text": [
      "c:\\Users\\There\\OneDrive\\Dokumenter\\GitHub\\Bachelor-thesis-ear\\Functions\\angleVis.py:92: RuntimeWarning: invalid value encountered in true_divide\n",
      "  n /= np.linalg.norm(n)\n"
     ]
    }
   ],
   "source": [
    "Viz = F.VisualizeAngle(\"results/results03.csv\", 6)\n",
    "Viz.get_coor()\n",
    "Viz.plot_angle_in_plane(10)\n",
    "angles = Viz.compute_all_angles()\n",
    "Rot = Viz.R"
   ]
  },
  {
   "cell_type": "code",
   "execution_count": 67,
   "metadata": {},
   "outputs": [],
   "source": [
    "path_chorda = (Rot @ path_18.T).T \n",
    "path_ = np.concatenate([path_26[0], path_26[1]], axis = 0)\n",
    "\n",
    "path_facial = (Rot @ path_.T).T \n",
    "xn = np.linspace(-100, 100)\n",
    "m, c = np.polyfit(path_chorda[:, 0], path_chorda[:, 1], 1)\n",
    "yn = np.polyval([m, c], xn)\n",
    "\n",
    "m1, c1, = np.polyfit(path_facial[:, 0], path_facial[:, 1], 1)\n",
    "yn2 = np.polyval([m1, c1], xn)\n"
   ]
  },
  {
   "cell_type": "code",
   "execution_count": 68,
   "metadata": {},
   "outputs": [],
   "source": [
    "p1 = np.array([xn[0], yn[0]])\n",
    "p2 = np.array([xn[-1], yn[-1]])\n",
    "chorda_direction = p2 - p1 \n",
    "\n",
    "p3 = np.array([xn[0], yn2[0]])\n",
    "p4 = np.array([xn[-1], yn2[-1]])\n",
    "facial_direction = p4 - p3\n",
    "\n",
    "angle = np.arccos(chorda_direction @ facial_direction /(np.linalg.norm(chorda_direction) * np.linalg.norm(facial_direction))) * 180 / np.pi "
   ]
  },
  {
   "cell_type": "code",
   "execution_count": 69,
   "metadata": {},
   "outputs": [],
   "source": [
    "%matplotlib qt \n",
    "import matplotlib\n",
    "matplotlib.rcParams.update({'font.size': 18})\n",
    "plt.scatter(path_chorda[:, 0], path_chorda[:, 1], color = \"b\", label = \"CTY\") # A\n",
    "plt.scatter(path_facial[:, 0], path_facial[:, 1], color = \"r\", label = \"FN\")\n",
    "plt.axis(\"square\")\n",
    "plt.plot(xn, yn)\n",
    "plt.plot(xn, yn2)\n",
    "plt.legend()\n",
    "plt.title(\"Angle = \" + str(angle))\n",
    "plt.xticks([])\n",
    "plt.yticks([])\n",
    "plt.show()"
   ]
  },
  {
   "cell_type": "code",
   "execution_count": 113,
   "metadata": {},
   "outputs": [
    {
     "data": {
      "text/plain": [
       "array([ 0.06068246, -0.15829528, -0.98552536])"
      ]
     },
     "execution_count": 113,
     "metadata": {},
     "output_type": "execute_result"
    }
   ],
   "source": [
    "mu = np.mean(path_, axis = 0)\n",
    "U, Sigma, V = np.linalg.svd(path - mu)\n",
    "direction = V[0]"
   ]
  },
  {
   "cell_type": "code",
   "execution_count": 63,
   "metadata": {},
   "outputs": [
    {
     "name": "stdout",
     "output_type": "stream",
     "text": [
      "33.80766007663637\n",
      "34.83399241849138\n",
      "35.80757322223459\n",
      "36.8586263959745\n",
      "37.88495873782951\n",
      "38.85522966723072\n",
      "39.853531302858826\n",
      "40.82711210660204\n",
      "41.79738303600325\n",
      "42.76765396540445\n",
      "43.73792489480566\n",
      "43.73792489480566\n",
      "43.76595560103256\n",
      "44.73953640477578\n",
      "45.71311720851899\n",
      "46.7114188441471\n",
      "47.70972047977521\n",
      "48.73274294728821\n",
      "49.70301387668942\n",
      "49.65026233857762\n"
     ]
    }
   ],
   "source": [
    "for i in range(len(path_facial)): \n",
    "    print(path_facial[i, 1])"
   ]
  },
  {
   "cell_type": "code",
   "execution_count": null,
   "metadata": {},
   "outputs": [],
   "source": []
  }
 ],
 "metadata": {
  "interpreter": {
   "hash": "9f174c81771ee6d077712ce78a52f53e50339283faf45319eecd1b39b251af8d"
  },
  "kernelspec": {
   "display_name": "Python 3.9.7 ('base')",
   "language": "python",
   "name": "python3"
  },
  "language_info": {
   "codemirror_mode": {
    "name": "ipython",
    "version": 3
   },
   "file_extension": ".py",
   "mimetype": "text/x-python",
   "name": "python",
   "nbconvert_exporter": "python",
   "pygments_lexer": "ipython3",
   "version": "3.9.7"
  },
  "orig_nbformat": 4
 },
 "nbformat": 4,
 "nbformat_minor": 2
}
