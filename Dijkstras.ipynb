{
 "cells": [
  {
   "cell_type": "code",
   "execution_count": 1,
   "metadata": {},
   "outputs": [],
   "source": [
    "import Functions as F \n",
    "results = \"results/results03.csv\"\n",
    "nr_agents = 6\n",
    "nr = 14\n",
    "Viz = F.VisualizeAngle(results, nr_agents)\n",
    "Viz.get_coor()\n",
    "Viz.plot_angle_in_plane(nr, True)"
   ]
  },
  {
   "cell_type": "code",
   "execution_count": 2,
   "metadata": {},
   "outputs": [],
   "source": [
    "%matplotlib qt \n",
    "rotation_ann = Viz.R_ann\n",
    "rotation_model = Viz.R_model \n",
    "Dij = F.Dijkstras(results, nr_agents, nr, rotation_ann, rotation_model)\n",
    "Dij.run_dijkstra(6, 26)"
   ]
  },
  {
   "cell_type": "code",
   "execution_count": 3,
   "metadata": {},
   "outputs": [],
   "source": [
    "Dij.plot_both()"
   ]
  },
  {
   "cell_type": "markdown",
   "metadata": {},
   "source": [
    "## Plot path on top of image"
   ]
  },
  {
   "cell_type": "code",
   "execution_count": 4,
   "metadata": {},
   "outputs": [],
   "source": [
    "import SimpleITK as sitk \n",
    "import numpy as np \n",
    "import os \n",
    "import matplotlib.pyplot as plt "
   ]
  },
  {
   "cell_type": "code",
   "execution_count": 24,
   "metadata": {},
   "outputs": [],
   "source": [
    "facial_paths = os.listdir(\"paths/paths_facial\")\n",
    "itkimage = sitk.ReadImage(\"Cmarl/src/data/images/Data_good_Scaled/\" + facial_paths[0][6:])\n",
    "\n",
    "origin = np.array(list(reversed(itkimage.GetOrigin())))\n",
    "spacing = np.array(list(reversed(itkimage.GetSpacing())))\n",
    "itkimage.SetOrigin(origin)\n",
    "itkimage.SetSpacing(spacing)\n",
    "\n",
    "mask = sitk.GetArrayFromImage(sitk.ReadImage(\"paths/paths_facial/\" + facial_paths[0]))\n",
    "im = sitk.GetArrayFromImage(itkimage)\n",
    "# mask = np.transpose(mask, [0, 2, 1])\n",
    "im[mask == 1] = 500 "
   ]
  },
  {
   "cell_type": "code",
   "execution_count": 27,
   "metadata": {},
   "outputs": [],
   "source": [
    "fig, ax = plt.subplots(3, 3, figsize = (14, 14))\n",
    "ax = ax.flatten()\n",
    "for i in range(3 * 3): \n",
    "    ax[i].imshow(im[0:80, 15:95, i + 27], cmap = \"gray\")\n",
    "    ax[i].set_title(f\"Slice {i + 27}\")\n",
    "    ax[i].axis(\"off\")\n",
    "plt.show()"
   ]
  },
  {
   "cell_type": "code",
   "execution_count": 18,
   "metadata": {},
   "outputs": [],
   "source": [
    "plt.imshow(im[:, :, 71])\n",
    "plt.show()"
   ]
  },
  {
   "cell_type": "code",
   "execution_count": 23,
   "metadata": {},
   "outputs": [
    {
     "data": {
      "text/plain": [
       "(array([27, 28, 28, 28, 28, 28, 29, 29, 29, 29, 29, 30, 30, 30, 31, 31, 31,\n",
       "        32, 32, 33, 33, 34, 34, 35, 35, 35, 36, 36], dtype=int64),\n",
       " array([37, 34, 35, 36, 38, 38, 33, 35, 36, 37, 39, 32, 34, 47, 31, 34, 46,\n",
       "        35, 45, 36, 44, 37, 43, 38, 41, 42, 39, 40], dtype=int64),\n",
       " array([71, 77, 76, 70, 72, 74, 76, 69, 76, 75, 73, 75, 68, 70, 74, 68, 70,\n",
       "        68, 70, 68, 71, 68, 70, 67, 69, 70, 68, 68], dtype=int64))"
      ]
     },
     "execution_count": 23,
     "metadata": {},
     "output_type": "execute_result"
    }
   ],
   "source": [
    "path = np.where(mask == 1)\n",
    "path "
   ]
  },
  {
   "cell_type": "code",
   "execution_count": null,
   "metadata": {},
   "outputs": [],
   "source": []
  }
 ],
 "metadata": {
  "interpreter": {
   "hash": "9f174c81771ee6d077712ce78a52f53e50339283faf45319eecd1b39b251af8d"
  },
  "kernelspec": {
   "display_name": "Python 3.9.7 ('base')",
   "language": "python",
   "name": "python3"
  },
  "language_info": {
   "codemirror_mode": {
    "name": "ipython",
    "version": 3
   },
   "file_extension": ".py",
   "mimetype": "text/x-python",
   "name": "python",
   "nbconvert_exporter": "python",
   "pygments_lexer": "ipython3",
   "version": "3.9.7"
  },
  "orig_nbformat": 4
 },
 "nbformat": 4,
 "nbformat_minor": 2
}
