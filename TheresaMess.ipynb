{
 "cells": [
  {
   "cell_type": "code",
   "execution_count": 123,
   "metadata": {},
   "outputs": [],
   "source": [
    "## IMport packages and define important things \n",
    "import itk\n",
    "import SimpleITK as sitk \n",
    "import matplotlib.pyplot as plt \n",
    "import numpy as np\n",
    "path = \"C:\\\\Users\\\\There\\\\OneDrive\\\\Uddannelse\\\\Universitet\\\\6 semester\\\\Bachelorprojekt\\\\Data\"\n",
    "\n",
    "from Dataloader import * \n"
   ]
  },
  {
   "cell_type": "code",
   "execution_count": 103,
   "metadata": {},
   "outputs": [
    {
     "name": "stdout",
     "output_type": "stream",
     "text": [
      "[1, 93, 94, 95, 96, 97, 98, 99, 100, 101, 102, 103, 104, 105, 106, 107, 108, 109]\n"
     ]
    }
   ],
   "source": [
    "nr = 0\n",
    "idx = []\n",
    "for i in range(1, 109+1): \n",
    "    i = str(i)\n",
    "    if i == \"16\" or i == \"78\": \n",
    "        continue\n",
    "    elif len(i) == 1:\n",
    "        im = itk.imread(path + \"\\\\Normal00\" + i + \"-T2.mha\")\n",
    "    elif len(i) == 2:\n",
    "        im = itk.imread(path + \"\\\\Normal0\" + i + \"-T2.mha\")\n",
    "    elif len(i) == 3:\n",
    "        im = itk.imread(path + \"\\\\Normal\" + i + \"-T2.mha\")\n",
    "\n",
    "    nr += (160, 512, 392) == im.shape\n",
    "    if (160, 512, 392) == im.shape: \n",
    "        idx.append(int(i))\n",
    "\n",
    "print(idx)\n",
    "\n",
    "# (128, 256, 192)"
   ]
  },
  {
   "cell_type": "code",
   "execution_count": 147,
   "metadata": {},
   "outputs": [
    {
     "ename": "AttributeError",
     "evalue": "'NDArrayITKBase' object has no attribute 'GetSpacing'",
     "output_type": "error",
     "traceback": [
      "\u001b[1;31m---------------------------------------------------------------------------\u001b[0m",
      "\u001b[1;31mAttributeError\u001b[0m                            Traceback (most recent call last)",
      "\u001b[1;32m~\\AppData\\Local\\Temp/ipykernel_23160/474894319.py\u001b[0m in \u001b[0;36m<module>\u001b[1;34m\u001b[0m\n\u001b[0;32m     25\u001b[0m     \u001b[1;32mreturn\u001b[0m \u001b[0mresample\u001b[0m\u001b[1;33m.\u001b[0m\u001b[0mExecute\u001b[0m\u001b[1;33m(\u001b[0m\u001b[0mitk_image\u001b[0m\u001b[1;33m)\u001b[0m\u001b[1;33m\u001b[0m\u001b[1;33m\u001b[0m\u001b[0m\n\u001b[0;32m     26\u001b[0m \u001b[1;33m\u001b[0m\u001b[0m\n\u001b[1;32m---> 27\u001b[1;33m \u001b[0mim_tmp2\u001b[0m \u001b[1;33m=\u001b[0m \u001b[0mresample_image\u001b[0m\u001b[1;33m(\u001b[0m\u001b[0mim_tmp\u001b[0m\u001b[1;33m)\u001b[0m\u001b[1;33m\u001b[0m\u001b[1;33m\u001b[0m\u001b[0m\n\u001b[0m\u001b[0;32m     28\u001b[0m \u001b[0mprint\u001b[0m\u001b[1;33m(\u001b[0m\u001b[0mim_tmp2\u001b[0m\u001b[1;33m.\u001b[0m\u001b[0mshape\u001b[0m\u001b[1;33m)\u001b[0m\u001b[1;33m\u001b[0m\u001b[1;33m\u001b[0m\u001b[0m\n\u001b[0;32m     29\u001b[0m \u001b[1;33m\u001b[0m\u001b[0m\n",
      "\u001b[1;32m~\\AppData\\Local\\Temp/ipykernel_23160/474894319.py\u001b[0m in \u001b[0;36mresample_image\u001b[1;34m(itk_image, out_spacing, is_label)\u001b[0m\n\u001b[0;32m      3\u001b[0m \u001b[1;33m\u001b[0m\u001b[0m\n\u001b[0;32m      4\u001b[0m \u001b[1;32mdef\u001b[0m \u001b[0mresample_image\u001b[0m\u001b[1;33m(\u001b[0m\u001b[0mitk_image\u001b[0m\u001b[1;33m,\u001b[0m \u001b[0mout_spacing\u001b[0m \u001b[1;33m=\u001b[0m \u001b[1;33m(\u001b[0m\u001b[1;36m100\u001b[0m\u001b[1;33m/\u001b[0m\u001b[1;36m60\u001b[0m\u001b[1;33m,\u001b[0m \u001b[1;36m100\u001b[0m\u001b[1;33m/\u001b[0m\u001b[1;36m60\u001b[0m\u001b[1;33m,\u001b[0m \u001b[1;36m100\u001b[0m\u001b[1;33m/\u001b[0m\u001b[1;36m60\u001b[0m\u001b[1;33m)\u001b[0m\u001b[1;33m,\u001b[0m \u001b[0mis_label\u001b[0m \u001b[1;33m=\u001b[0m \u001b[1;32mFalse\u001b[0m\u001b[1;33m)\u001b[0m\u001b[1;33m:\u001b[0m\u001b[1;33m\u001b[0m\u001b[1;33m\u001b[0m\u001b[0m\n\u001b[1;32m----> 5\u001b[1;33m     \u001b[0moriginal_spacing\u001b[0m \u001b[1;33m=\u001b[0m \u001b[0mitk_image\u001b[0m\u001b[1;33m.\u001b[0m\u001b[0mGetSpacing\u001b[0m\u001b[1;33m(\u001b[0m\u001b[1;33m)\u001b[0m\u001b[1;33m\u001b[0m\u001b[1;33m\u001b[0m\u001b[0m\n\u001b[0m\u001b[0;32m      6\u001b[0m     \u001b[0moriginal_size\u001b[0m \u001b[1;33m=\u001b[0m \u001b[0mitk_image\u001b[0m\u001b[1;33m.\u001b[0m\u001b[0mshape\u001b[0m\u001b[1;33m\u001b[0m\u001b[1;33m\u001b[0m\u001b[0m\n\u001b[0;32m      7\u001b[0m \u001b[1;33m\u001b[0m\u001b[0m\n",
      "\u001b[1;31mAttributeError\u001b[0m: 'NDArrayITKBase' object has no attribute 'GetSpacing'"
     ]
    }
   ],
   "source": [
    "im = loadScan(path, 2)\n",
    "im_tmp = im[7, 110:170, 100:160]\n",
    "\n",
    "def resample_image(itk_image, out_spacing = (100/60, 100/60, 100/60), is_label = False): \n",
    "    original_spacing = itk_image.GetSpacing()\n",
    "    original_size = itk_image.GetSize()\n",
    "\n",
    "    out_size = [int(np.round(original_size[0] * (original_spacing[0] / out_spacing[0]))),\n",
    "                int(np.round(original_size[1] * (original_spacing[1] / out_spacing[1]))),\n",
    "                int(np.round(original_size[2] * (original_spacing[2] / out_spacing[2])))]\n",
    "\n",
    "    resample = sitk.ResampleImageFilter()\n",
    "    resample.SetOutputSpacing(out_spacing)\n",
    "    resample.SetSize(out_size)\n",
    "    resample.SetOutputDirection(itk_image.GetDirection())\n",
    "    resample.SetOutputOrigin(itk_image.GetOrigin())\n",
    "    resample.SetTransform(sitk.Transform())\n",
    "    resample.SetDefaultPixelValue(itk_image.GetPixelIDValue())\n",
    "\n",
    "    if is_label:\n",
    "        resample.SetInterpolator(sitk.sitkNearestNeighbor)\n",
    "    else:\n",
    "        resample.SetInterpolator(sitk.sitkBSpline)\n",
    "\n",
    "    return resample.Execute(itk_image)\n",
    "\n",
    "im_tmp2 = resample_image(im_tmp)\n",
    "print(im_tmp2.shape)\n",
    "\n",
    "\n"
   ]
  },
  {
   "cell_type": "code",
   "execution_count": 137,
   "metadata": {},
   "outputs": [],
   "source": [
    "\n",
    "\n"
   ]
  },
  {
   "cell_type": "code",
   "execution_count": null,
   "metadata": {},
   "outputs": [],
   "source": []
  }
 ],
 "metadata": {
  "interpreter": {
   "hash": "9f174c81771ee6d077712ce78a52f53e50339283faf45319eecd1b39b251af8d"
  },
  "kernelspec": {
   "display_name": "Python 3.9.7 ('base')",
   "language": "python",
   "name": "python3"
  },
  "language_info": {
   "codemirror_mode": {
    "name": "ipython",
    "version": 3
   },
   "file_extension": ".py",
   "mimetype": "text/x-python",
   "name": "python",
   "nbconvert_exporter": "python",
   "pygments_lexer": "ipython3",
   "version": "3.9.7"
  },
  "orig_nbformat": 4
 },
 "nbformat": 4,
 "nbformat_minor": 2
}
