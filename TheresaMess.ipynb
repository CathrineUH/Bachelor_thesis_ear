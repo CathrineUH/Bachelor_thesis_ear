{
 "cells": [
  {
   "cell_type": "code",
   "execution_count": 123,
   "metadata": {},
   "outputs": [],
   "source": [
    "## IMport packages and define important things \n",
    "import itk\n",
    "import SimpleITK as sitk \n",
    "import matplotlib.pyplot as plt \n",
    "import numpy as np\n",
    "path = \"C:\\\\Users\\\\There\\\\OneDrive\\\\Uddannelse\\\\Universitet\\\\6 semester\\\\Bachelorprojekt\\\\Data\"\n",
    "\n",
    "from Dataloader import * \n"
   ]
  },
  {
   "cell_type": "code",
   "execution_count": 103,
   "metadata": {},
   "outputs": [
    {
     "name": "stdout",
     "output_type": "stream",
     "text": [
      "[1, 93, 94, 95, 96, 97, 98, 99, 100, 101, 102, 103, 104, 105, 106, 107, 108, 109]\n"
     ]
    }
   ],
   "source": [
    "nr = 0\n",
    "idx = []\n",
    "for i in range(1, 109+1): \n",
    "    i = str(i)\n",
    "    if i == \"16\" or i == \"78\": \n",
    "        continue\n",
    "    elif len(i) == 1:\n",
    "        im = itk.imread(path + \"\\\\Normal00\" + i + \"-T2.mha\")\n",
    "    elif len(i) == 2:\n",
    "        im = itk.imread(path + \"\\\\Normal0\" + i + \"-T2.mha\")\n",
    "    elif len(i) == 3:\n",
    "        im = itk.imread(path + \"\\\\Normal\" + i + \"-T2.mha\")\n",
    "\n",
    "    nr += (160, 512, 392) == im.shape\n",
    "    if (160, 512, 392) == im.shape: \n",
    "        idx.append(int(i))\n",
    "\n",
    "print(idx)\n",
    "\n",
    "# (128, 256, 192)"
   ]
  },
  {
   "cell_type": "code",
   "execution_count": 165,
   "metadata": {},
   "outputs": [
    {
     "ename": "AttributeError",
     "evalue": "'itkImageUS3' object has no attribute 'GetShape'",
     "output_type": "error",
     "traceback": [
      "\u001b[1;31m---------------------------------------------------------------------------\u001b[0m",
      "\u001b[1;31mAttributeError\u001b[0m                            Traceback (most recent call last)",
      "\u001b[1;32m~\\AppData\\Local\\Temp/ipykernel_23160/3234942687.py\u001b[0m in \u001b[0;36m<module>\u001b[1;34m\u001b[0m\n\u001b[0;32m      1\u001b[0m \u001b[0mim\u001b[0m \u001b[1;33m=\u001b[0m \u001b[0mloadScan\u001b[0m\u001b[1;33m(\u001b[0m\u001b[0mpath\u001b[0m\u001b[1;33m,\u001b[0m \u001b[1;36m2\u001b[0m\u001b[1;33m)\u001b[0m\u001b[1;33m\u001b[0m\u001b[1;33m\u001b[0m\u001b[0m\n\u001b[0;32m      2\u001b[0m \u001b[1;33m\u001b[0m\u001b[0m\n\u001b[1;32m----> 3\u001b[1;33m \u001b[0mprint\u001b[0m\u001b[1;33m(\u001b[0m\u001b[0mim\u001b[0m\u001b[1;33m.\u001b[0m\u001b[0mGetShape\u001b[0m\u001b[1;33m(\u001b[0m\u001b[1;33m)\u001b[0m\u001b[1;33m)\u001b[0m\u001b[1;33m\u001b[0m\u001b[1;33m\u001b[0m\u001b[0m\n\u001b[0m",
      "\u001b[1;31mAttributeError\u001b[0m: 'itkImageUS3' object has no attribute 'GetShape'"
     ]
    }
   ],
   "source": [
    "im = loadScan(path, 2)\n",
    "\n",
    "\n"
   ]
  },
  {
   "cell_type": "code",
   "execution_count": 163,
   "metadata": {},
   "outputs": [],
   "source": [
    "im = loadScan(path, 1)\n",
    "im = np.array(im)\n",
    "im_ear = im[37, 230:330, 220:320]\n",
    "\n",
    "plt.imshow(im_ear, cmap = \"gray\")\n",
    "plt.show()\n",
    "\n"
   ]
  },
  {
   "cell_type": "code",
   "execution_count": null,
   "metadata": {},
   "outputs": [],
   "source": []
  }
 ],
 "metadata": {
  "interpreter": {
   "hash": "9f174c81771ee6d077712ce78a52f53e50339283faf45319eecd1b39b251af8d"
  },
  "kernelspec": {
   "display_name": "Python 3.9.7 ('base')",
   "language": "python",
   "name": "python3"
  },
  "language_info": {
   "codemirror_mode": {
    "name": "ipython",
    "version": 3
   },
   "file_extension": ".py",
   "mimetype": "text/x-python",
   "name": "python",
   "nbconvert_exporter": "python",
   "pygments_lexer": "ipython3",
   "version": "3.9.7"
  },
  "orig_nbformat": 4
 },
 "nbformat": 4,
 "nbformat_minor": 2
}
