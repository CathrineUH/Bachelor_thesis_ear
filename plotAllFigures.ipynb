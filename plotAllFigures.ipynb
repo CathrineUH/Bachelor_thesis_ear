{
 "cells": [
  {
   "cell_type": "code",
   "execution_count": null,
   "metadata": {},
   "outputs": [],
   "source": [
    "# import packages \n",
    "import Functions as F\n",
    "\n",
    "\n",
    "# import results (csv-files)\n",
    "bestModel = \"results/results05.csv\"\n"
   ]
  }
 ],
 "metadata": {
  "language_info": {
   "name": "python"
  },
  "orig_nbformat": 4
 },
 "nbformat": 4,
 "nbformat_minor": 2
}
